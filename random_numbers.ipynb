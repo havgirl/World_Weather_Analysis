{
 "cells": [
  {
   "cell_type": "code",
   "execution_count": 14,
   "id": "862523d4-ca5e-4904-8d5b-c4c527ae269e",
   "metadata": {},
   "outputs": [],
   "source": [
    "#Import the random module\n",
    "import random"
   ]
  },
  {
   "cell_type": "code",
   "execution_count": 15,
   "id": "3fa996f3-d4fd-4b50-a58a-8e0c06b7007b",
   "metadata": {},
   "outputs": [
    {
     "data": {
      "text/plain": [
       "0.41257737351219737"
      ]
     },
     "execution_count": 15,
     "metadata": {},
     "output_type": "execute_result"
    }
   ],
   "source": [
    "#Random.random returns a floating-point decimal number bwtween 0 and 1.  Will not generate a whole integer.\n",
    "random.random()"
   ]
  },
  {
   "cell_type": "code",
   "execution_count": 16,
   "id": "f6b74e0b-9758-4c37-aad4-f48d4944a4c0",
   "metadata": {},
   "outputs": [
    {
     "data": {
      "text/plain": [
       "8"
      ]
     },
     "execution_count": 16,
     "metadata": {},
     "output_type": "execute_result"
    }
   ],
   "source": [
    "#Random.randint returns an interger between the intervals provide (-90,89), for example.  Will not generate a floating-point decimal number.\n",
    "random.randint(-10,10)"
   ]
  },
  {
   "cell_type": "code",
   "execution_count": 17,
   "id": "5cfbc329-77ea-425b-87e5-95c9240204fb",
   "metadata": {},
   "outputs": [
    {
     "data": {
      "text/plain": [
       "3"
      ]
     },
     "execution_count": 17,
     "metadata": {},
     "output_type": "execute_result"
    }
   ],
   "source": [
    "#Random.randrange returns a whole integer between the interval (-90 and 90) where the step is the difference between each number in the sequence.  Will not generate a floating-point decimal number.\n",
    "random.randrange(-9,9,2)"
   ]
  },
  {
   "cell_type": "code",
   "execution_count": 18,
   "id": "9f4f21cd-e28b-4b25-b86d-6caee906e41e",
   "metadata": {},
   "outputs": [
    {
     "data": {
      "text/plain": [
       "-6.669249084034949"
      ]
     },
     "execution_count": 18,
     "metadata": {},
     "output_type": "execute_result"
    }
   ],
   "source": [
    "#Random.uniform returns a floating-point decimal number between the interval (-90 and 90). Will not generate a whole integer.\n",
    "random.uniform(-10,10)"
   ]
  },
  {
   "cell_type": "code",
   "execution_count": 19,
   "id": "49978d29-3dfd-407f-a33f-59610cafed70",
   "metadata": {},
   "outputs": [
    {
     "data": {
      "text/plain": [
       "83.04212059877344"
      ]
     },
     "execution_count": 19,
     "metadata": {},
     "output_type": "execute_result"
    }
   ],
   "source": [
    "#MORE PRACTICE\n",
    "random_number = random.randint(-90,89) + random.random()\n",
    "random_number"
   ]
  },
  {
   "cell_type": "code",
   "execution_count": 22,
   "id": "6a315ad9-bc12-4917-872f-fbea19f6346b",
   "metadata": {},
   "outputs": [
    {
     "data": {
      "text/plain": [
       "-4.19760332486931"
      ]
     },
     "execution_count": 22,
     "metadata": {},
     "output_type": "execute_result"
    }
   ],
   "source": [
    "# generate latitudes between -90 and 89\n",
    "x = 1\n",
    "latitudes = []\n",
    "while x < 11:\n",
    "    random_lat = random.randint(-90, 89) + random.random()\n",
    "    latitudes.append(random_lat)\n",
    "    x += 1\n",
    "random_lat"
   ]
  },
  {
   "cell_type": "code",
   "execution_count": 24,
   "id": "150ab255-7885-4d65-a6e9-c6df5f07db83",
   "metadata": {},
   "outputs": [
    {
     "data": {
      "text/plain": [
       "35"
      ]
     },
     "execution_count": 24,
     "metadata": {},
     "output_type": "execute_result"
    }
   ],
   "source": [
    "# generate longitudes between -180 and 180\n",
    "random.randrange(-90, 90, step=1)"
   ]
  },
  {
   "cell_type": "code",
   "execution_count": 27,
   "id": "0766d976-9ef2-46bc-b8d1-74318c7b1457",
   "metadata": {},
   "outputs": [
    {
     "data": {
      "text/plain": [
       "21"
      ]
     },
     "execution_count": 27,
     "metadata": {},
     "output_type": "execute_result"
    }
   ],
   "source": [
    "random.randrange(-90, 90, step=3)"
   ]
  },
  {
   "cell_type": "code",
   "execution_count": 28,
   "id": "c3ba2998-23a1-4a43-aaa4-5d7e86e29b55",
   "metadata": {},
   "outputs": [
    {
     "data": {
      "text/plain": [
       "-89.6500287319229"
      ]
     },
     "execution_count": 28,
     "metadata": {},
     "output_type": "execute_result"
    }
   ],
   "source": [
    "random.uniform(-90, 90)"
   ]
  },
  {
   "cell_type": "code",
   "execution_count": 29,
   "id": "8d53059c-c2b4-4691-b911-08ad3b7faf43",
   "metadata": {},
   "outputs": [],
   "source": [
    "# Import the NumPy module. NumPy module is a numberical mathmetacis library that can be used to make arrays or matrices of numbers. The NumPy module has a built-in random module,\n",
    "# and supplements the built-in Python random module. There is no need to import the random module if we import the NumPy module, as it's redundant.\n",
    "import numpy as np"
   ]
  },
  {
   "cell_type": "code",
   "execution_count": 30,
   "id": "63cb44b0-c5f6-49da-a589-718a73df2f14",
   "metadata": {},
   "outputs": [
    {
     "data": {
      "text/plain": [
       "4.989764222060828"
      ]
     },
     "execution_count": 30,
     "metadata": {},
     "output_type": "execute_result"
    }
   ],
   "source": [
    "# When we use the NumPy module with the random.uniform() function, the parenthetical parameters contain a lower boundary (low value) and an upper boundary (high value) that are floating-point decimal numbers.\n",
    "np.random.uniform(-90.000, 90.000)\n",
    "# Can also be written as np.random.uniform(low=-90, high=90)"
   ]
  },
  {
   "cell_type": "code",
   "execution_count": 33,
   "id": "d002d1ce-eea8-490c-a766-802d89d959b4",
   "metadata": {},
   "outputs": [
    {
     "data": {
      "text/plain": [
       "array([ 27.21457455, -46.92535272, -80.68997276,  18.3145384 ,\n",
       "        62.19039375,  85.83622554, -74.09989999,  69.11945319,\n",
       "        77.26114103,  70.77598488,  59.63354603, -38.78356357,\n",
       "        89.09765247,  68.34962658,  26.55460287,   6.68103999,\n",
       "         2.33123715,  52.25611567,  80.40339461, -23.92036093,\n",
       "       -35.52908212, -10.90449358,  -4.53378846,  -8.7089724 ,\n",
       "        11.90469035,  61.23672682, -26.6123055 ,  -1.63904025,\n",
       "        37.711335  ,  47.50545795,  83.63682334,  62.35312098,\n",
       "       -89.55630269, -65.43381139,  40.19833612,  29.4222694 ,\n",
       "        78.38682063,  19.57625254,   2.33166433,  48.14860071,\n",
       "        38.67056092,  46.52458263,  48.03875989, -50.55358485,\n",
       "       -71.52261746,   9.93034889,  85.1480315 , -41.25683019,\n",
       "       -79.10884468,  67.64425977])"
      ]
     },
     "execution_count": 33,
     "metadata": {},
     "output_type": "execute_result"
    }
   ],
   "source": [
    "# To generate more than one floating-point decimail, we can add the size parameter and set that equal to any whole number\n",
    "np.random.uniform(-90.000, 90.000, size=50)"
   ]
  },
  {
   "cell_type": "code",
   "execution_count": 36,
   "id": "511eb63a-dcd6-45ab-a696-2810ec2dc0f9",
   "metadata": {},
   "outputs": [],
   "source": [
    "# Import timeit; used to test how long a piece of code or function takes to run\n",
    "import timeit"
   ]
  },
  {
   "cell_type": "code",
   "execution_count": 37,
   "id": "a8a88b43-12a9-4512-8651-a725d2153434",
   "metadata": {},
   "outputs": [
    {
     "name": "stdout",
     "output_type": "stream",
     "text": [
      "14.8 µs ± 499 ns per loop (mean ± std. dev. of 7 runs, 100000 loops each)\n"
     ]
    }
   ],
   "source": [
    "# Method 1\n",
    "%timeit np.random.uniform(-90.000, 90.000, size=1500)"
   ]
  },
  {
   "cell_type": "code",
   "execution_count": 38,
   "id": "a08dd808-ac3f-4a61-bea9-d4a3bf6e77ca",
   "metadata": {},
   "outputs": [
    {
     "name": "stdout",
     "output_type": "stream",
     "text": [
      "1.67 ms ± 270 µs per loop (mean ± std. dev. of 7 runs, 100 loops each)\n"
     ]
    }
   ],
   "source": [
    "# Method 2\n",
    "def latitudes(size):\n",
    "    latitudes = []\n",
    "    x = 0\n",
    "    while x < (size):\n",
    "        random_lat = random.randint(-90, 90) + random.random()\n",
    "        latitudes.append(random_lat)\n",
    "        x += 1\n",
    "    return latitudes\n",
    "# Call the function with 1500.\n",
    "%timeit latitudes(1500)"
   ]
  },
  {
   "cell_type": "code",
   "execution_count": null,
   "id": "abb24a97-5b25-416e-b071-aac0865143d7",
   "metadata": {},
   "outputs": [],
   "source": []
  },
  {
   "cell_type": "code",
   "execution_count": null,
   "id": "3b2456b0-6b50-4ebb-a607-56369dcf0b1d",
   "metadata": {},
   "outputs": [],
   "source": []
  },
  {
   "cell_type": "code",
   "execution_count": null,
   "id": "6eaa5670-639b-4689-ae37-32d0bd49ad75",
   "metadata": {},
   "outputs": [],
   "source": []
  },
  {
   "cell_type": "code",
   "execution_count": null,
   "id": "d2303779-f0f3-4ddb-9ad7-fd107c841183",
   "metadata": {},
   "outputs": [],
   "source": []
  },
  {
   "cell_type": "code",
   "execution_count": null,
   "id": "0a43997c-fb3d-40a2-b214-80ca95bf2673",
   "metadata": {},
   "outputs": [],
   "source": []
  }
 ],
 "metadata": {
  "kernelspec": {
   "display_name": "PythonData",
   "language": "python",
   "name": "pythondata"
  },
  "language_info": {
   "codemirror_mode": {
    "name": "ipython",
    "version": 3
   },
   "file_extension": ".py",
   "mimetype": "text/x-python",
   "name": "python",
   "nbconvert_exporter": "python",
   "pygments_lexer": "ipython3",
   "version": "3.7.13"
  }
 },
 "nbformat": 4,
 "nbformat_minor": 5
}
